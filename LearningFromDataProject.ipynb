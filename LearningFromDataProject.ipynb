{
 "cells": [
  {
   "cell_type": "markdown",
   "metadata": {},
   "source": [
    "# Using Machine Learning Methods to predict whether or not somebody has a Mental Health issue within the Technology Industry"
   ]
  },
  {
   "cell_type": "markdown",
   "metadata": {},
   "source": [
    "### Student ID: 670041990"
   ]
  },
  {
   "cell_type": "code",
   "execution_count": 1,
   "metadata": {},
   "outputs": [],
   "source": [
    "import pandas as pd\n",
    "import numpy as np\n",
    "import seaborn as sns\n",
    "import matplotlib.pyplot as plt\n",
    "import warnings \n",
    "from sklearn.exceptions import ConvergenceWarning\n",
    "\n",
    "dia_all = pd.read_csv(\"mental_health_data.csv\") #Loads full dataset\n",
    "\n",
    "#This line will suppress the errors which come up when the dataframe is being overwritten (which is what we want to do)\n",
    "pd.options.mode.chained_assignment = None  #default='warn'\n",
    "\n",
    "#Hides ConvergenceWarnings, which are a problem later on, due to lack of data for convergence, so they are just hidden.\n",
    "warnings.simplefilter('ignore', category = ConvergenceWarning)"
   ]
  },
  {
   "cell_type": "markdown",
   "metadata": {},
   "source": [
    "## Preprocessing"
   ]
  },
  {
   "cell_type": "code",
   "execution_count": 2,
   "metadata": {},
   "outputs": [],
   "source": [
    "# =========================================\n",
    "# ==============CLEANING DATA==============\n",
    "# =========================================\n",
    "\n",
    "\n",
    "\n",
    "#Renaming the columns of the dataset\n",
    "#mental health abbreviated to mh to save space, and make column names more consise\n",
    "#physical health abbreviated to ph\n",
    "\n",
    "#Renaming the columns to be more workable\n",
    "column_names = ['self_employed', 'num_of_employees', 'tech_company', 'tech_role', 'mh_benefits',\n",
    "               'mh_benefits_awareness', 'mh_discussion', 'employer_resources',\n",
    "               'mh_anonymity_for_help', 'mh_leave_ease','neg_consquences_with_emp_mh_discussion',\n",
    "               'neg_consequences_with_emp_ph_discussion', 'mh_coworkers_discussion_comfort',\n",
    "               'mh_supervisor_discussion_comfort', 'emp_mh_seriousness',\n",
    "               'observed_or_heard_neg_consequence_mh', 'medical_insurance_mental_health',\n",
    "               'mh_recources_avaliability_awareness', \n",
    "                    'mh_diagnosed&revealed_clients',\n",
    "               'neg_impact_diagnosed&revealed_clients', 'mh_diagnosed&revealed_coworkers',\n",
    "               'neg_impact_diagnosed&revealed_coworkers', 'mh_productivity_affect',\n",
    "               'mh_productivity_affect_percent', \n",
    "                    'previous_emp', 'prev_emp_mh_benefits',\n",
    "               'prev_emp_mh_benefits_awareness', 'prev_employers_mh_discussion',\n",
    "               'prev_emp_mh_resources', 'prev_emp_mh_anonymity_for_help',\n",
    "               'prev_emp_neg_consequence_with_emp_mh_discussion',\n",
    "               'prev_emp_neg_consequence_with_emp_ph_discussion',\n",
    "               'prev_emp_coworkers_discussion_comfort', 'prev_emp_supervisor_discussion_comfort',\n",
    "               'prev_emp_mh_seriousness', 'prev_emp_observed_or_heard_neg_consequence_mh',\n",
    "                    'ph_in_interview', 'why/why_not', 'mh_in_interview', 'why/why_not2', 'mh_hurt_career',\n",
    "               'mh_neg_view_coworker', 'mh_sharing_friends/fam', 'mh_bad_response_work',\n",
    "               'mh_others_observation_lower_motivation_to_share', \n",
    "                'family_history_mh','mh_disorder_past', 'mh_disorder_present', 'diagnosed_conditions', 'mh_personal_diagnosis',\n",
    "               'mh_professional_diagnosis', 'professional_diagnosed_conditions', 'mh_sought_treatment',\n",
    "               'mh_treatment_interferes_with_work', 'mh_non_treatment_treatment_interferes_with_work',\n",
    "                   'age', 'gender', 'country', 'state', 'work_country', 'work_US_state',\n",
    "               'work_position', 'remote_work']\n",
    "\n",
    "#This command just sets the column_names which are defined above and links it to the data\n",
    "dia_all.columns = column_names"
   ]
  },
  {
   "cell_type": "code",
   "execution_count": 3,
   "metadata": {},
   "outputs": [],
   "source": [
    "#Catagorising the gender column\n",
    "\n",
    "#This returns how many unique values are within a column (70 unique values)\n",
    "dia_all['gender'].nunique()\n",
    "\n",
    "#Making all of the items in the gender column lowercase to decrease the num of unique values\n",
    "if dia_all['gender'].nunique() > 3:\n",
    "    dia_all['gender'] = dia_all['gender'].str.lower() #(57 unique values)\n",
    "\n",
    "dia_all['gender'].replace(to_replace = [\n",
    "    'male', 'cis male', 'cis man', 'cisdude', 'dude',\n",
    "    'i\\'m a man why didn\\'t you make this a drop down question. you should of asked sex? and i would of answered yes please. seriously how much text can this take? ',\n",
    "    'm', 'm|', 'mail', 'male (cis)', 'male (trans, ftm)', 'male.', 'malr', 'man', 'sex is male', 'male '\n",
    "], value = 1, inplace = True)\n",
    "\n",
    "dia_all['gender'].replace(to_replace = [\n",
    "    'afab', 'cis female', 'cis-woman', 'cisgender female', 'f', 'fem', 'female',\n",
    "    'female (props for making this a freeform field, though)', 'female assigned at birth ',\n",
    "    'female or multi-gender femme', 'female/woman', 'fm', 'i identify as female.', 'mtf', 'transgender woman',\n",
    "    'transitioned, m2f', 'woman', 'female ', 'cis female ', ' female'], value = 2, inplace = True)\n",
    "\n",
    "dia_all['gender'].replace(to_replace = [\n",
    "    'agender', 'androgynous', 'bigender', 'enby', 'female-bodied; no feelings about gender', 'fluid',\n",
    "    'genderfluid', 'genderfluid (born female)', 'genderflux demi-girl', 'genderqueer', 'genderqueer woman', 'human',\n",
    "    'male 9:1 female, roughly', 'male/genderqueer', 'n/a', 'nb masculine', 'non-binary', 'nonbinary',\n",
    "    'none of your business', 'other', 'other/transfeminine', 'queer', 'unicorn', 'genderqueer woman'\n",
    "], value = 3, inplace = True)"
   ]
  },
  {
   "cell_type": "code",
   "execution_count": 4,
   "metadata": {},
   "outputs": [],
   "source": [
    "#Dealing with ages which are outside of the working age\n",
    "#Finding the mean of all the ages within the working age (15-64)\n",
    "mean_age = dia_all[(dia_all['age'] >= 15) | (dia_all['age'] <= 64)]['age'].mean()\n",
    "\n",
    "#Replacing the values which are outside the working age with the average age\n",
    "dia_all['age'].replace(to_replace = dia_all[(dia_all['age'] < 15) | (dia_all['age'] > 64)]['age'].tolist(),\n",
    "                       value = mean_age, inplace = True)"
   ]
  },
  {
   "cell_type": "code",
   "execution_count": 5,
   "metadata": {},
   "outputs": [],
   "source": [
    "#Dropping work_country and work_US_state\n",
    "\n",
    "dia_all.drop(['work_country', 'work_US_state'], axis = 1, inplace = True)\n",
    "\n",
    "#Dropping the why/why not questions\n",
    "\n",
    "dia_all.drop(['why/why_not','why/why_not2'], axis = 1, inplace = True)"
   ]
  },
  {
   "cell_type": "code",
   "execution_count": 6,
   "metadata": {},
   "outputs": [],
   "source": [
    "# =========================================\n",
    "# ==============MISSING DATA===============\n",
    "# =========================================\n",
    "\n",
    "\n",
    "\n",
    "#Dropping all questions with a less than 50% answer rate:\n",
    "count = 0 #Count is 13, so 13 columns are dropped\n",
    "low_answer_rate = []\n",
    "if dia_all.shape[0] > 60:\n",
    "    for col in dia_all:\n",
    "            if(sum(pd.isnull(dia_all[col]))>dia_all.shape[0]/2):\n",
    "                count += 1\n",
    "                low_answer_rate.append(col)\n",
    "                dia_all.drop([col], axis = 1, inplace = True)\n",
    "        \n",
    "# These are the columns which are dropped due to low response rate\n",
    "# low_answer_rate = ['tech_role',\n",
    "#  'medical_insurance_mental_health',\n",
    "#  'mh_recources_avaliability_awareness',\n",
    "#  'mh_diagnosed&revealed_clients',\n",
    "#  'neg_impact_diagnosed&revealed_clients',\n",
    "#  'mh_diagnosed&revealed_coworkers',\n",
    "#  'neg_impact_diagnosed&revealed_coworkers',\n",
    "#  'mh_productivity_affect',\n",
    "#  'mh_productivity_affect_percent',\n",
    "#  'mh_others_observation_lower_motivation_to_share',\n",
    "#  'diagnosed_conditions',\n",
    "#  'mh_personal_diagnosis',\n",
    "#  'professional_diagnosed_conditions']"
   ]
  },
  {
   "cell_type": "code",
   "execution_count": 7,
   "metadata": {},
   "outputs": [],
   "source": [
    "#Before imputing the missing values,I wanted to split the data into United States and the rest of the world,\n",
    "#This is so that I could use state later on when comparing, and did not have to worry about it affecting the \n",
    "#data because one value was more common than the last\n",
    "\n",
    "#Once the imputing has been done, the two datasets will be re-merged\n",
    "\n",
    "USA = dia_all[dia_all['country'] == 'United States of America']\n",
    "\n",
    "rest_of_world = dia_all[dia_all['country'] != 'United States of America']\n",
    "rest_of_world_to_drop = ['state']\n",
    "\n",
    "rest_of_world.drop(rest_of_world_to_drop, axis = 1, inplace = True)"
   ]
  },
  {
   "cell_type": "code",
   "execution_count": 8,
   "metadata": {},
   "outputs": [],
   "source": [
    "#Imputing values using sklearn.impute.SimpleImputer\n",
    "\n",
    "from sklearn.impute import SimpleImputer\n",
    "\n",
    "imp = SimpleImputer(missing_values=np.nan, strategy = 'most_frequent')\n",
    "#Fitting the DataFrame\n",
    "imp.fit(USA)\n",
    "imp_data_USA = pd.DataFrame(data = imp.transform(USA), columns = USA.columns)\n",
    "\n",
    "imp.fit(rest_of_world)\n",
    "imp_data_rest = pd.DataFrame(data = imp.transform(rest_of_world), columns = rest_of_world.columns)\n",
    "\n",
    "#Remerging the data\n",
    "\n",
    "imp_data = pd.concat([imp_data_USA, imp_data_rest], sort = True)"
   ]
  },
  {
   "cell_type": "code",
   "execution_count": 9,
   "metadata": {},
   "outputs": [],
   "source": [
    "# =========================================\n",
    "# ==============ENCODING DATA==============\n",
    "# =========================================\n",
    "\n",
    "\n",
    "\n",
    "#Encoding data (Turning data into numbers rather than written responses)\n",
    "\n",
    "#Changing num_of_employees to be the single values, rather than ranges. Set to be the maximum of the range.\n",
    "#If the company has more than 1000 employees, change it to 5000 as that is large enough.\n",
    "\n",
    "imp_data['num_of_employees'] = imp_data['num_of_employees'].replace({'1-5' : 5,\n",
    "                                                                   '6-25' : 25,\n",
    "                                                                   '26-100' : 100,\n",
    "                                                                   '100-500' : 500,\n",
    "                                                                   '500-1000' : 1000,\n",
    "                                                                   'More than 1000' : 5000})\n",
    "\n",
    "#'YES' = 1, 'NO' = 0, 'MAYBE/I don't know/ I'm not sure' = 2\n",
    "\n",
    "\n",
    "imp_data = imp_data.replace({'Yes' : 1, 'Very easy' : 1,'I was aware of some' : 1,'Yes, I was aware of all of them' : 1,\n",
    "                  'Yes, they all did' : 1, 'Yes, always' : 1,'Yes, all of them' : 1,\n",
    "                  'Yes, at all of my previous employers' : 1, 'Yes, I think it would' : 1,\n",
    "                  'Yes, they do' : 1, 'Yes, I observed' : 1, 'Often' : 1, 'Always' : 1,\n",
    "                  'Somewhat open' : 1, 'Yes, I experienced' : 1, 'Yes, I think they would' : 1,\n",
    "                  'Yes, I think it would' : 1,'Yes, it has' : 1,\n",
    "                  \n",
    "                  'No' : 0, 'Somewhat easy' : 0, 'No, I only became aware later' : 0, \n",
    "                  'N/A (not currently aware)' : 0, 'No, none did' : 0, 'None did' : 0,\n",
    "                  'None of them' : 0, 'No, at none of my previous employers' : 0,\n",
    "                  \"No, I don't think it would happen\" : 0, \"No, I don't think they would\" : 0,\n",
    "                  'No, it has not' : 0, \"No, I don't think it would\" : 0,\n",
    "                  'No, they do not' : 0, 'Rarely' : 0, 'Never' : 0, 'Neutral' : 0,\n",
    "                  \n",
    "                  \"I don't know\" : 2, \"I am not sure\" : 2, 'N/A' : 2, 'Not eligible for coverage / N/A' : 2,  \n",
    "                  'Neither easy nor difficult' : 2,  'Maybe' : 2, 'Very open' : 2, 'Maybe/Not sure' : 2,  \n",
    "                  \n",
    "                  'Sometimes' : 3, 'Some of them' : 3,'Some of my previous employers' : 3,'Some did' : 3, \n",
    "                  \n",
    "                  'Somewhat difficult' : -1, 'Somewhat not open' : -1,\n",
    "                  \n",
    "                  'Very difficult' : -2, 'Not open at all' : -2,\n",
    "                  \n",
    "                  'Not applicable to me (I do not have a mental illness)' : 4, 'Not applicable to me' : 4, \n",
    "                   } )\n"
   ]
  },
  {
   "cell_type": "code",
   "execution_count": 10,
   "metadata": {},
   "outputs": [],
   "source": [
    "#Changing countries which are not in the permissable list (USA/UK/Aus/GER/Netherlands)\n",
    "\n",
    "permissable_countries = ['United States of America', 'United Kingdom', 'Australia', 'Germany', 'Netherlands']\n",
    "\n",
    "imp_data.loc[~imp_data['country'].isin(permissable_countries), 'country'] = 'Other'"
   ]
  },
  {
   "cell_type": "code",
   "execution_count": 11,
   "metadata": {},
   "outputs": [],
   "source": [
    "#Encoding the location/state\n",
    "\n",
    "#Encoding data and adding it to the original DataFrame\n",
    "\n",
    "imp_data = pd.concat([imp_data, pd.get_dummies(imp_data['country'], prefix = 'country')], axis = 1)\n",
    "\n",
    "#Dropping the original country from the DataFrame\n",
    "imp_data.drop(['country'], axis = 1, inplace = True)"
   ]
  },
  {
   "cell_type": "code",
   "execution_count": 12,
   "metadata": {},
   "outputs": [],
   "source": [
    "#Splitting the work_position data into multiple columns.\n",
    "position = imp_data['work_position'].str.join('').str.get_dummies(sep='|')\n",
    "\n",
    "imp_data = pd.concat([imp_data, imp_data['work_position'].str.join('').str.get_dummies(sep='|')], axis = 1)\n",
    "\n",
    "imp_data.drop('work_position', axis = 1, inplace = True)"
   ]
  },
  {
   "cell_type": "code",
   "execution_count": 13,
   "metadata": {},
   "outputs": [],
   "source": [
    "#Splits the data into people who are self-employed and those who are not.\n",
    "self_employed =imp_data[imp_data['self_employed'] == 1] \n",
    "employed = imp_data[imp_data['self_employed'] == 0]"
   ]
  },
  {
   "cell_type": "code",
   "execution_count": 14,
   "metadata": {},
   "outputs": [],
   "source": [
    "#These are the columns which I am choosing to drop as they all are answerd with NaN for self-employed people,\n",
    "#and I want to use the self-employed data, not just get rid of it.\n",
    "to_drop = ['num_of_employees', 'tech_company', 'mh_benefits', 'mh_benefits_awareness',\n",
    "          'mh_discussion', 'employer_resources', 'mh_anonymity_for_help', 'mh_leave_ease',\n",
    "          'neg_consquences_with_emp_mh_discussion', 'neg_consequences_with_emp_ph_discussion',\n",
    "          'mh_coworkers_discussion_comfort', 'mh_supervisor_discussion_comfort', 'emp_mh_seriousness',\n",
    "          'observed_or_heard_neg_consequence_mh']\n",
    "\n",
    "self_employed = self_employed.drop(labels=to_drop, axis = 1)"
   ]
  },
  {
   "cell_type": "markdown",
   "metadata": {},
   "source": [
    "## Machine Learning"
   ]
  },
  {
   "cell_type": "code",
   "execution_count": 15,
   "metadata": {},
   "outputs": [],
   "source": [
    "from sklearn.ensemble import RandomForestClassifier\n",
    "from sklearn.svm import LinearSVC\n",
    "from sklearn.model_selection import train_test_split\n",
    "from sklearn.metrics import confusion_matrix, accuracy_score\n",
    "\n",
    "#Excluding state column from the data to be learnt, as it is not encoded.\n",
    "\n",
    "cols_employed_numeric = [cols for cols in employed.columns if employed[cols].dtype in ['int64', 'float64']]\n",
    "cols_self_employed_numeric = [cols for cols in self_employed.columns if self_employed[cols].dtype in ['int64', 'float64']]\n",
    "\n",
    "employed = employed[cols_employed_numeric]\n",
    "self_employed = self_employed[cols_self_employed_numeric]\n",
    "\n",
    "#Splitting the data into variables and target\n",
    "\n",
    "cols_employed = [col for col in employed.columns if col not in ['mh_disorder_present']]\n",
    "\n",
    "cols_self_employed = [col for col in self_employed.columns if col not in ['mh_disorder_present']]\n",
    "\n",
    "employed_vars = employed[cols_employed]\n",
    "employed_tar = employed['mh_disorder_present']\n",
    "\n",
    "self_employed_vars = self_employed[cols_self_employed]\n",
    "self_employed_tar = self_employed['mh_disorder_present']"
   ]
  },
  {
   "cell_type": "code",
   "execution_count": 16,
   "metadata": {},
   "outputs": [],
   "source": [
    "#Splitting both sets of data into test/train data.\n",
    "\n",
    "def data_split(X, y):\n",
    "    X_train, X_test, y_train, y_test = train_test_split(X, y, test_size = 0.3)\n",
    "    return X_train, X_test, y_train, y_test\n",
    "\n",
    "employed_X_train, employed_X_test, employed_y_train, employed_y_test = data_split(employed_vars, employed_tar)\n",
    "self_employed_X_train, self_employed_X_test, self_employed_y_train, self_employed_y_test = data_split(self_employed_vars, self_employed_tar)"
   ]
  },
  {
   "cell_type": "code",
   "execution_count": 17,
   "metadata": {},
   "outputs": [],
   "source": [
    "#Building a function so that multiple models can be assessed \n",
    "\n",
    "def model(model, name, X_train, X_test, y_train, y_test):\n",
    "    model.fit(X_train, y_train)\n",
    "    preds = model.predict(X_test)\n",
    "    print('====', name, '====', '\\n',\n",
    "            'Accuracy: ', accuracy_score(y_test, preds), '\\n',\n",
    "          confusion_matrix(y_test, preds), '\\n',\n",
    "         )\n",
    "    return confusion_matrix"
   ]
  },
  {
   "cell_type": "code",
   "execution_count": 18,
   "metadata": {},
   "outputs": [
    {
     "name": "stdout",
     "output_type": "stream",
     "text": [
      "==== Employed Random Forest ==== \n",
      " Accuracy:  0.7616279069767442 \n",
      " [[110  20   9]\n",
      " [  2 125   8]\n",
      " [ 14  29  27]] \n",
      "\n",
      "==== Self Employed Random Forest ==== \n",
      " Accuracy:  0.7241379310344828 \n",
      " [[21  3  3]\n",
      " [ 2 31  3]\n",
      " [ 4  9 11]] \n",
      "\n",
      "==== Employed Linear Support Vector ==== \n",
      " Accuracy:  0.49127906976744184 \n",
      " [[69 11 59]\n",
      " [10 49 76]\n",
      " [ 7 12 51]] \n",
      "\n",
      "==== Self Employed Linear Suppoert Vector ==== \n",
      " Accuracy:  0.47126436781609193 \n",
      " [[22  1  4]\n",
      " [14 11 11]\n",
      " [13  3  8]] \n",
      "\n"
     ]
    },
    {
     "data": {
      "text/plain": [
       "<function sklearn.metrics._classification.confusion_matrix(y_true, y_pred, *, labels=None, sample_weight=None, normalize=None)>"
      ]
     },
     "execution_count": 18,
     "metadata": {},
     "output_type": "execute_result"
    }
   ],
   "source": [
    "#Random Forests\n",
    "random_forest = RandomForestClassifier(n_estimators = 1000, max_depth = 10, random_state = 0)\n",
    "model(random_forest, 'Employed Random Forest', employed_X_train, employed_X_test, employed_y_train.values.ravel(), employed_y_test.values.ravel())\n",
    "model(random_forest, 'Self Employed Random Forest', self_employed_X_train, self_employed_X_test, self_employed_y_train, self_employed_y_test)\n",
    "\n",
    "#Linear SVC\n",
    "lin_svc = LinearSVC(random_state=0, tol=1e-5)\n",
    "model(lin_svc, 'Employed Linear Support Vector', employed_X_train, employed_X_test, employed_y_train.values.ravel(), employed_y_test.values.ravel())\n",
    "model(lin_svc, 'Self Employed Linear Suppoert Vector', self_employed_X_train, self_employed_X_test, self_employed_y_train, self_employed_y_test)"
   ]
  },
  {
   "cell_type": "markdown",
   "metadata": {},
   "source": [
    "## Tuning Parameters"
   ]
  },
  {
   "cell_type": "markdown",
   "metadata": {},
   "source": [
    "The following section will attempt to improve the accuracy of the random forest classifier, by changing the variables (such as the number of trees etc). Different values are selected randomly from the selected range (given before the random grid), with the variables which produce the best outcome being the variables which are to be used in the final model."
   ]
  },
  {
   "cell_type": "code",
   "execution_count": 20,
   "metadata": {},
   "outputs": [
    {
     "name": "stdout",
     "output_type": "stream",
     "text": [
      "==== Employed base model ==== \n",
      " Accuracy:  0.7616279069767442 \n",
      "\n",
      "==== Self-Employed base model ==== \n",
      " Accuracy:  0.7241379310344828 \n",
      "\n"
     ]
    }
   ],
   "source": [
    "#This is just repeating the accuracy of each model so that it is easier to compare and looks neater\n",
    "\n",
    "def parameter_models(model, name, X_train, X_test, y_train, y_test):\n",
    "    model.fit(X_train, y_train)\n",
    "    preds = model.predict(X_test)\n",
    "    accuracy = accuracy_score(y_test, preds)\n",
    "    print('====', name, '====', '\\n',\n",
    "         'Accuracy: ', accuracy, '\\n')\n",
    "    return accuracy\n",
    "\n",
    "# Making the two models (employed and self-employed)\n",
    "\n",
    "base_model_employed = random_forest\n",
    "\n",
    "base_self_employed_model = random_forest\n",
    "\n",
    "# Running the model using the parameter_model function\n",
    "\n",
    "base_model_employed_accuracy = parameter_models(base_model_employed, 'Employed base model', employed_X_train, employed_X_test, employed_y_train, employed_y_test)\n",
    "\n",
    "base_model_self_employed_accuracy = parameter_models(base_self_employed_model, 'Self-Employed base model', self_employed_X_train, self_employed_X_test,\n",
    "                                                     self_employed_y_train, self_employed_y_test)"
   ]
  },
  {
   "cell_type": "code",
   "execution_count": 21,
   "metadata": {},
   "outputs": [
    {
     "name": "stdout",
     "output_type": "stream",
     "text": [
      "Fitting 3 folds for each of 100 candidates, totalling 300 fits\n"
     ]
    },
    {
     "name": "stderr",
     "output_type": "stream",
     "text": [
      "[Parallel(n_jobs=-1)]: Using backend LokyBackend with 8 concurrent workers.\n",
      "[Parallel(n_jobs=-1)]: Done  25 tasks      | elapsed:   13.8s\n",
      "[Parallel(n_jobs=-1)]: Done 146 tasks      | elapsed:  1.0min\n",
      "[Parallel(n_jobs=-1)]: Done 300 out of 300 | elapsed:  2.1min finished\n"
     ]
    },
    {
     "name": "stdout",
     "output_type": "stream",
     "text": [
      "Fitting 3 folds for each of 100 candidates, totalling 300 fits\n"
     ]
    },
    {
     "name": "stderr",
     "output_type": "stream",
     "text": [
      "[Parallel(n_jobs=-1)]: Using backend LokyBackend with 8 concurrent workers.\n",
      "[Parallel(n_jobs=-1)]: Done  25 tasks      | elapsed:    9.2s\n",
      "[Parallel(n_jobs=-1)]: Done 146 tasks      | elapsed:   46.7s\n",
      "[Parallel(n_jobs=-1)]: Done 300 out of 300 | elapsed:  1.6min finished\n"
     ]
    }
   ],
   "source": [
    "from sklearn.model_selection import RandomizedSearchCV\n",
    "\n",
    "#number of trees in random forest\n",
    "n_estimators = [int(x) for x in np.linspace(start=200, stop = 2000, num = 10)]\n",
    "\n",
    "#number of features to consider at every split\n",
    "max_features = ['auto', 'sqrt']\n",
    "\n",
    "#maximum number of levels in a tree\n",
    "max_depth = [int(x) for x in np.linspace(10,110, num = 11)]\n",
    "max_depth.append(None)\n",
    "\n",
    "#minimum number of samples required to split a node\n",
    "min_samples_split = [2,5,10]\n",
    "\n",
    "#Minimum number of samples required at each leaf node\n",
    "min_samples_leaf = [1,2,4]\n",
    "\n",
    "#Method of selecting samples for training each tree\n",
    "bootstrap = [True, False]\n",
    "\n",
    "#Creating the random grid\n",
    "\n",
    "random_grid = { 'n_estimators' : n_estimators,\n",
    "               'max_features' : max_features,\n",
    "               'max_depth' : max_depth,\n",
    "               'min_samples_split' : min_samples_split,\n",
    "               'min_samples_leaf' : min_samples_leaf,\n",
    "               'bootstrap' : bootstrap}\n",
    "\n",
    "#Creating the base model to tune\n",
    "rf = RandomForestClassifier()\n",
    "\n",
    "#Telling the model which are the random variables to use\n",
    "rf_random = RandomizedSearchCV(estimator = rf, param_distributions = random_grid, n_iter = 100, cv = 3, verbose = 2, random_state = 42, n_jobs = -1)\n",
    "\n",
    "#Training the models (using .fit)\n",
    "employed_model = rf_random.fit(employed_X_train, employed_y_train)\n",
    "\n",
    "self_employed_model = rf_random.fit(self_employed_X_train, self_employed_y_train)"
   ]
  },
  {
   "cell_type": "code",
   "execution_count": 22,
   "metadata": {},
   "outputs": [
    {
     "name": "stdout",
     "output_type": "stream",
     "text": [
      "==== Employed RandomizedSearchCV Parameters ==== \n",
      " {'n_estimators': 600, 'min_samples_split': 2, 'min_samples_leaf': 4, 'max_features': 'sqrt', 'max_depth': 30, 'bootstrap': False} \n",
      "\n",
      "==== Self Employed RandomizedSearchCV Parameters ==== \n",
      " {'n_estimators': 600, 'min_samples_split': 2, 'min_samples_leaf': 4, 'max_features': 'sqrt', 'max_depth': 30, 'bootstrap': False} \n",
      "\n"
     ]
    }
   ],
   "source": [
    "# Gives the best parameters from within the RandomizeedSearchCV \n",
    "randomizedsearchcv_employed_parameters = employed_model.best_params_\n",
    "randomizedsearchcv_self_employed_parameters = self_employed_model.best_params_\n",
    "\n",
    "# Print function to show the best parameters for each of the models\n",
    "\n",
    "def param_print(name, params):\n",
    "    print('====', name, '====', '\\n',\n",
    "         params, '\\n')\n",
    "    \n",
    "param_print('Employed RandomizedSearchCV Parameters', randomizedsearchcv_employed_parameters)\n",
    "param_print('Self Employed RandomizedSearchCV Parameters', randomizedsearchcv_self_employed_parameters)"
   ]
  },
  {
   "cell_type": "code",
   "execution_count": 23,
   "metadata": {},
   "outputs": [
    {
     "name": "stdout",
     "output_type": "stream",
     "text": [
      "==== Employed RandomizedSearchCV parameter model ==== \n",
      " Accuracy:  0.7587209302325582 \n",
      "\n",
      "==== Self-Employed RandomizedSearchCV parameter model ==== \n",
      " Accuracy:  0.7126436781609196 \n",
      "\n"
     ]
    }
   ],
   "source": [
    "# Building the new model from the RandomizedSearchCV parameters\n",
    "\n",
    "randomizedsearchcv_employed_model = RandomForestClassifier(bootstrap = False, max_depth = None, max_features = 'sqrt', min_samples_leaf = 2,\n",
    "                                                   min_samples_split = 5, n_estimators = 1400)\n",
    "\n",
    "randomizedsearchcv_self_employed_model = RandomForestClassifier(bootstrap = False, max_depth = None, max_features = 'sqrt', min_samples_leaf = 2,\n",
    "                                                   min_samples_split = 5, n_estimators = 1400)\n",
    "\n",
    "# Rerunning the models using the parameters which are found using the RandomizedSearchCV and showing their accuracies\n",
    "employed_accuracy_randomizedsearchcv = parameter_models(randomizedsearchcv_employed_model, 'Employed RandomizedSearchCV parameter model', \n",
    "                                                        employed_X_train, employed_X_test, employed_y_train, employed_y_test)\n",
    "\n",
    "self_employed_accuracy_randomizedsearchcv = parameter_models(randomizedsearchcv_self_employed_model, 'Self-Employed RandomizedSearchCV parameter model', \n",
    "                                                             self_employed_X_train, self_employed_X_test, self_employed_y_train, self_employed_y_test)"
   ]
  },
  {
   "cell_type": "code",
   "execution_count": 24,
   "metadata": {},
   "outputs": [
    {
     "name": "stdout",
     "output_type": "stream",
     "text": [
      "==== Employed RandomizedSearchCV against Base Model change ==== \n",
      " -0.3816793893129778 % \n",
      "\n",
      "==== Self Employed RandomizedSearchCV against Base Model change ==== \n",
      " -1.5873015873015854 % \n",
      "\n"
     ]
    }
   ],
   "source": [
    "#Finding the % difference in accuracy between the base model and the model with tuned perameters from the RandomizedSearchCV model\n",
    "\n",
    "diff_employed = 100 * (employed_accuracy_randomizedsearchcv - base_model_employed_accuracy)/base_model_employed_accuracy\n",
    "\n",
    "diff_self_employed = 100 * (self_employed_accuracy_randomizedsearchcv - base_model_self_employed_accuracy)/base_model_self_employed_accuracy\n",
    "\n",
    "#Creating a print function so that all formats of the accuracy comparisons outputs are the same.\n",
    "def comp_print(name, accuracy):\n",
    "    print('====', name, '====', '\\n',\n",
    "         accuracy, '% \\n')\n",
    "    \n",
    "comp_print('Employed RandomizedSearchCV against Base Model change', diff_employed)\n",
    "comp_print('Self Employed RandomizedSearchCV against Base Model change', diff_self_employed)"
   ]
  },
  {
   "cell_type": "code",
   "execution_count": 25,
   "metadata": {},
   "outputs": [],
   "source": [
    "#Random search narrowed down the optimal parameter values, grid search will narrow it down even further.\n",
    "\n",
    "from sklearn.model_selection import GridSearchCV\n",
    "\n",
    "#Creating a parameter grid based on the results from the random search\n",
    "\n",
    "param_grid_employed = {\n",
    "    'bootstrap' : [True],\n",
    "    'max_depth' : [10, 15, 20, 25],\n",
    "    'max_features' : ['sqrt'],\n",
    "    'min_samples_leaf' : [1,2,3],\n",
    "    'min_samples_split' : [8, 10, 12],\n",
    "    'n_estimators' : [700, 800, 900, 1000, 1200, 1500]}\n",
    "\n",
    "param_grid_self_employed = {\n",
    "    'bootstrap' : [True],\n",
    "    'max_depth' : [45, 50, 55, 60, 65, 75],\n",
    "    'max_features' : ['sqrt'],\n",
    "    'min_samples_leaf' : [1,2,3],\n",
    "    'min_samples_split' : [8, 10, 12],\n",
    "    'n_estimators' : [300, 400, 500, 600, 700, 800]}\n",
    "\n",
    "\n",
    "#Making the grid search model\n",
    "\n",
    "def grid_search(param_grid):\n",
    "    grid_search = GridSearchCV(estimator = random_forest, param_grid = param_grid, cv = 3, n_jobs = -1, verbose = 2)\n",
    "    \n",
    "    return grid_search\n",
    "\n",
    "# Running the grid_search function on both the employed and self employed model\n",
    "grid_search_employed = grid_search(param_grid_employed)\n",
    "grid_search_self_employed = grid_search(param_grid_self_employed)"
   ]
  },
  {
   "cell_type": "code",
   "execution_count": 26,
   "metadata": {},
   "outputs": [
    {
     "name": "stdout",
     "output_type": "stream",
     "text": [
      "Fitting 3 folds for each of 216 candidates, totalling 648 fits\n"
     ]
    },
    {
     "name": "stderr",
     "output_type": "stream",
     "text": [
      "[Parallel(n_jobs=-1)]: Using backend LokyBackend with 8 concurrent workers.\n",
      "[Parallel(n_jobs=-1)]: Done  25 tasks      | elapsed:   10.4s\n",
      "[Parallel(n_jobs=-1)]: Done 146 tasks      | elapsed:   58.0s\n",
      "[Parallel(n_jobs=-1)]: Done 349 tasks      | elapsed:  2.4min\n",
      "[Parallel(n_jobs=-1)]: Done 632 tasks      | elapsed:  4.2min\n",
      "[Parallel(n_jobs=-1)]: Done 648 out of 648 | elapsed:  4.3min finished\n"
     ]
    },
    {
     "name": "stdout",
     "output_type": "stream",
     "text": [
      "Fitting 3 folds for each of 324 candidates, totalling 972 fits\n"
     ]
    },
    {
     "name": "stderr",
     "output_type": "stream",
     "text": [
      "[Parallel(n_jobs=-1)]: Using backend LokyBackend with 8 concurrent workers.\n",
      "[Parallel(n_jobs=-1)]: Done  25 tasks      | elapsed:    4.4s\n",
      "[Parallel(n_jobs=-1)]: Done 146 tasks      | elapsed:   26.4s\n",
      "[Parallel(n_jobs=-1)]: Done 349 tasks      | elapsed:  1.1min\n",
      "[Parallel(n_jobs=-1)]: Done 632 tasks      | elapsed:  1.9min\n",
      "[Parallel(n_jobs=-1)]: Done 972 out of 972 | elapsed:  3.0min finished\n"
     ]
    }
   ],
   "source": [
    "# Running the models with the grid_search parameter for both models\n",
    "\n",
    "employed_grid_search = grid_search_employed.fit(employed_X_train, employed_y_train)\n",
    "self_employed_grid_search = grid_search_self_employed.fit(self_employed_X_train, self_employed_y_train)\n",
    "\n",
    "# The next line finds the best parameters for the employed model\n",
    "employed_grid_params = employed_grid_search.best_params_\n",
    "self_employed_grid_params = self_employed_grid_search.best_params_"
   ]
  },
  {
   "cell_type": "code",
   "execution_count": 27,
   "metadata": {},
   "outputs": [
    {
     "name": "stdout",
     "output_type": "stream",
     "text": [
      "==== Employed GridSearchCV Parameters ==== \n",
      " {'bootstrap': True, 'max_depth': 10, 'max_features': 'sqrt', 'min_samples_leaf': 1, 'min_samples_split': 8, 'n_estimators': 1000} \n",
      "\n",
      "==== Self Employed GridSearchCV Paramets ==== \n",
      " {'bootstrap': True, 'max_depth': 45, 'max_features': 'sqrt', 'min_samples_leaf': 3, 'min_samples_split': 12, 'n_estimators': 300} \n",
      "\n"
     ]
    }
   ],
   "source": [
    "# Calling the print function to show the best parameters for each model found by GridSearchCV\n",
    "\n",
    "param_print('Employed GridSearchCV Parameters', employed_grid_params)\n",
    "param_print('Self Employed GridSearchCV Paramets', self_employed_grid_params)"
   ]
  },
  {
   "cell_type": "code",
   "execution_count": 28,
   "metadata": {},
   "outputs": [
    {
     "name": "stdout",
     "output_type": "stream",
     "text": [
      "==== Employed GridSearchCV model ==== \n",
      " Accuracy:  0.7616279069767442 \n",
      "\n",
      "==== Self Employed GridSearchCV model ==== \n",
      " Accuracy:  0.735632183908046 \n",
      "\n"
     ]
    }
   ],
   "source": [
    "#Finding the accuracy from the GridSearchCV models\n",
    "\n",
    "# Creating the models from the parameters found above\n",
    "gridsearch_employed_model = RandomForestClassifier(bootstrap = True, max_depth = 20, max_features = 'sqrt', min_samples_leaf = 1,\n",
    "                                                   min_samples_split = 12, n_estimators = 900)\n",
    "\n",
    "gridsearch_self_employed_model = RandomForestClassifier(bootstrap = True, max_depth = 45, max_features = 'sqrt', min_samples_leaf = 1,\n",
    "                                                   min_samples_split = 10, n_estimators = 500)\n",
    "\n",
    "\n",
    "gridsearch_employed_accuracy = parameter_models(gridsearch_employed_model, 'Employed GridSearchCV model', employed_X_train, \n",
    "                                                employed_X_test, employed_y_train, employed_y_test)\n",
    "\n",
    "gridsearch_self_employed_accuracy = parameter_models(gridsearch_self_employed_model, 'Self Employed GridSearchCV model', self_employed_X_train, \n",
    "                                                self_employed_X_test, self_employed_y_train, self_employed_y_test)"
   ]
  },
  {
   "cell_type": "markdown",
   "metadata": {},
   "source": [
    "Comparing the accuracy of the GridSearchCV models to the other models"
   ]
  },
  {
   "cell_type": "code",
   "execution_count": 29,
   "metadata": {},
   "outputs": [
    {
     "name": "stdout",
     "output_type": "stream",
     "text": [
      "========================================= \n",
      " ==== GRIDSEARCHCV AGAINST BASE MODEL ==== \n",
      " ========================================= \n",
      "\n",
      "==== Employed GridSearchCV against Base Model change ==== \n",
      " 0.0 % \n",
      "\n",
      "==== Self Employed GridSearchCV against Base Model change ==== \n",
      " 1.5873015873015854 % \n",
      "\n",
      "========================================= \n",
      " ==== GRIDSEARCHCV AGAINST RANDOMIZEDSEARCHCV MODEL ==== \n",
      " ========================================= \n",
      "\n",
      "==== Employed GridSearchCV against RandomizedSearchCV change ==== \n",
      " 0.38314176245210796 % \n",
      "\n",
      "==== Self Employed GridSearchCV against RandomizedSearchCV change ==== \n",
      " 3.225806451612899 % \n",
      "\n"
     ]
    }
   ],
   "source": [
    "# Comparing GridSearchCV model to the base model\n",
    "\n",
    "base_vs_gridsearch_employed_accuracy = 100 * (gridsearch_employed_accuracy - base_model_employed_accuracy)/base_model_employed_accuracy\n",
    "base_vs_gridsearch_self_employed_accuracy = 100 * (gridsearch_self_employed_accuracy - base_model_self_employed_accuracy)/base_model_self_employed_accuracy\n",
    "\n",
    "# Comparing GridSearchCV model to the RandomizedSearchCV model\n",
    "\n",
    "randomizedsearch_vs_gridsearch_employed_accuracy = 100 * (gridsearch_employed_accuracy - employed_accuracy_randomizedsearchcv)/employed_accuracy_randomizedsearchcv\n",
    "randomizedsearch_vs_gridsearch_self_employed_accuracy = 100 * (gridsearch_self_employed_accuracy - self_employed_accuracy_randomizedsearchcv)/self_employed_accuracy_randomizedsearchcv\n",
    "\n",
    "# Using the function defined previously to show the differences between the different models accuracy %s.\n",
    "\n",
    "print('=========================================', '\\n',\n",
    "      '==== GRIDSEARCHCV AGAINST BASE MODEL ==== \\n',\n",
    "     '========================================= \\n')\n",
    "comp_print('Employed GridSearchCV against Base Model change', base_vs_gridsearch_employed_accuracy)\n",
    "comp_print('Self Employed GridSearchCV against Base Model change', base_vs_gridsearch_self_employed_accuracy)\n",
    "\n",
    "print('=========================================', '\\n',\n",
    "      '==== GRIDSEARCHCV AGAINST RANDOMIZEDSEARCHCV MODEL ==== \\n',\n",
    "     '========================================= \\n')\n",
    "comp_print('Employed GridSearchCV against RandomizedSearchCV change', randomizedsearch_vs_gridsearch_employed_accuracy)\n",
    "comp_print('Self Employed GridSearchCV against RandomizedSearchCV change', randomizedsearch_vs_gridsearch_self_employed_accuracy)"
   ]
  },
  {
   "cell_type": "markdown",
   "metadata": {},
   "source": [
    "## Final Model"
   ]
  },
  {
   "cell_type": "code",
   "execution_count": 30,
   "metadata": {},
   "outputs": [
    {
     "name": "stdout",
     "output_type": "stream",
     "text": [
      "==== Employed Random Forest ==== \n",
      " Accuracy:  0.752906976744186 \n",
      " [[109  22   8]\n",
      " [  4 123   8]\n",
      " [ 15  28  27]] \n",
      "\n",
      "==== Self Employed Random Forest ==== \n",
      " Accuracy:  0.7241379310344828 \n",
      " [[21  3  3]\n",
      " [ 2 33  1]\n",
      " [ 6  9  9]] \n",
      "\n"
     ]
    }
   ],
   "source": [
    "#Final Employed model\n",
    "random_forest_employed = RandomForestClassifier(bootstrap = True, max_depth = 20, max_features = 'sqrt', min_samples_leaf = 1, \n",
    "                                                min_samples_split = 12, n_estimators = 900)\n",
    "\n",
    "employed_final = model(random_forest_employed, 'Employed Random Forest', employed_X_train, employed_X_test, employed_y_train.values.ravel(), employed_y_test.values.ravel())\n",
    "\n",
    "#Final self-employed model\n",
    "random_forest_self_employed = RandomForestClassifier(bootstrap = True, max_depth = 45, max_features = 'sqrt', min_samples_leaf = 1,\n",
    "                                                     min_samples_split = 10, n_estimators = 500)\n",
    "\n",
    "self_employed_final = model(random_forest_self_employed, 'Self Employed Random Forest', self_employed_X_train, self_employed_X_test, self_employed_y_train, self_employed_y_test)"
   ]
  },
  {
   "cell_type": "markdown",
   "metadata": {},
   "source": [
    "## Visualisation"
   ]
  },
  {
   "cell_type": "markdown",
   "metadata": {},
   "source": [
    "TODO:\n",
    "\n",
    "Plot confusion matrices for both of the models\n",
    "\n",
    "Plot a feature importance matrix for both of the models, including maybe just the top 5 features or something\n",
    "\n",
    "Conclusion can then go on to speak about how some of the key features need to be reduced to increase peoples mental health"
   ]
  },
  {
   "cell_type": "code",
   "execution_count": 31,
   "metadata": {},
   "outputs": [
    {
     "data": {
      "text/html": [
       "<div>\n",
       "<style scoped>\n",
       "    .dataframe tbody tr th:only-of-type {\n",
       "        vertical-align: middle;\n",
       "    }\n",
       "\n",
       "    .dataframe tbody tr th {\n",
       "        vertical-align: top;\n",
       "    }\n",
       "\n",
       "    .dataframe thead th {\n",
       "        text-align: right;\n",
       "    }\n",
       "</style>\n",
       "<table border=\"1\" class=\"dataframe\">\n",
       "  <thead>\n",
       "    <tr style=\"text-align: right;\">\n",
       "      <th></th>\n",
       "      <th>importance</th>\n",
       "    </tr>\n",
       "  </thead>\n",
       "  <tbody>\n",
       "    <tr>\n",
       "      <td>mh_non_treatment_treatment_interferes_with_work</td>\n",
       "      <td>0.160462</td>\n",
       "    </tr>\n",
       "    <tr>\n",
       "      <td>mh_disorder_past</td>\n",
       "      <td>0.135664</td>\n",
       "    </tr>\n",
       "    <tr>\n",
       "      <td>mh_professional_diagnosis</td>\n",
       "      <td>0.124361</td>\n",
       "    </tr>\n",
       "    <tr>\n",
       "      <td>mh_treatment_interferes_with_work</td>\n",
       "      <td>0.098668</td>\n",
       "    </tr>\n",
       "    <tr>\n",
       "      <td>mh_sought_treatment</td>\n",
       "      <td>0.057994</td>\n",
       "    </tr>\n",
       "    <tr>\n",
       "      <td>family_history_mh</td>\n",
       "      <td>0.034813</td>\n",
       "    </tr>\n",
       "    <tr>\n",
       "      <td>mh_sharing_friends/fam</td>\n",
       "      <td>0.034136</td>\n",
       "    </tr>\n",
       "    <tr>\n",
       "      <td>age</td>\n",
       "      <td>0.033601</td>\n",
       "    </tr>\n",
       "    <tr>\n",
       "      <td>mh_leave_ease</td>\n",
       "      <td>0.019527</td>\n",
       "    </tr>\n",
       "    <tr>\n",
       "      <td>num_of_employees</td>\n",
       "      <td>0.016109</td>\n",
       "    </tr>\n",
       "  </tbody>\n",
       "</table>\n",
       "</div>"
      ],
      "text/plain": [
       "                                                 importance\n",
       "mh_non_treatment_treatment_interferes_with_work    0.160462\n",
       "mh_disorder_past                                   0.135664\n",
       "mh_professional_diagnosis                          0.124361\n",
       "mh_treatment_interferes_with_work                  0.098668\n",
       "mh_sought_treatment                                0.057994\n",
       "family_history_mh                                  0.034813\n",
       "mh_sharing_friends/fam                             0.034136\n",
       "age                                                0.033601\n",
       "mh_leave_ease                                      0.019527\n",
       "num_of_employees                                   0.016109"
      ]
     },
     "execution_count": 31,
     "metadata": {},
     "output_type": "execute_result"
    }
   ],
   "source": [
    "# Creating a function which will show the importance of each feature for both models\n",
    "\n",
    "def feature_importance(name, model, X_train, y_train, X_test, y_test):\n",
    "    model.fit(X_train, y_train)\n",
    "    model.score(X_test, y_test)\n",
    "    # The next line creates a dataframe which will include the feature names and the feature importances\n",
    "    feat_importance = pd.DataFrame(model.feature_importances_, index = X_train.columns, columns = ['importance']).sort_values('importance', ascending = False)\n",
    "    return feat_importance\n",
    "\n",
    "# Calculates the feature importance for the employed\n",
    "employed_feature_importance = feature_importance('Employed Feature Importance', random_forest_employed, employed_X_train, employed_y_train, employed_X_test, employed_y_test)\n",
    "\n",
    "# Shows the top 10 most important features\n",
    "employed_feature_importance.head(10)"
   ]
  },
  {
   "cell_type": "code",
   "execution_count": 32,
   "metadata": {},
   "outputs": [
    {
     "data": {
      "text/html": [
       "<div>\n",
       "<style scoped>\n",
       "    .dataframe tbody tr th:only-of-type {\n",
       "        vertical-align: middle;\n",
       "    }\n",
       "\n",
       "    .dataframe tbody tr th {\n",
       "        vertical-align: top;\n",
       "    }\n",
       "\n",
       "    .dataframe thead th {\n",
       "        text-align: right;\n",
       "    }\n",
       "</style>\n",
       "<table border=\"1\" class=\"dataframe\">\n",
       "  <thead>\n",
       "    <tr style=\"text-align: right;\">\n",
       "      <th></th>\n",
       "      <th>importance</th>\n",
       "    </tr>\n",
       "  </thead>\n",
       "  <tbody>\n",
       "    <tr>\n",
       "      <td>mh_disorder_past</td>\n",
       "      <td>0.167483</td>\n",
       "    </tr>\n",
       "    <tr>\n",
       "      <td>mh_professional_diagnosis</td>\n",
       "      <td>0.125347</td>\n",
       "    </tr>\n",
       "    <tr>\n",
       "      <td>mh_non_treatment_treatment_interferes_with_work</td>\n",
       "      <td>0.124386</td>\n",
       "    </tr>\n",
       "    <tr>\n",
       "      <td>mh_treatment_interferes_with_work</td>\n",
       "      <td>0.077992</td>\n",
       "    </tr>\n",
       "    <tr>\n",
       "      <td>mh_sought_treatment</td>\n",
       "      <td>0.049977</td>\n",
       "    </tr>\n",
       "    <tr>\n",
       "      <td>mh_sharing_friends/fam</td>\n",
       "      <td>0.046498</td>\n",
       "    </tr>\n",
       "    <tr>\n",
       "      <td>family_history_mh</td>\n",
       "      <td>0.042737</td>\n",
       "    </tr>\n",
       "    <tr>\n",
       "      <td>age</td>\n",
       "      <td>0.039178</td>\n",
       "    </tr>\n",
       "    <tr>\n",
       "      <td>prev_emp_neg_consequence_with_emp_mh_discussion</td>\n",
       "      <td>0.024210</td>\n",
       "    </tr>\n",
       "    <tr>\n",
       "      <td>prev_emp_mh_anonymity_for_help</td>\n",
       "      <td>0.018561</td>\n",
       "    </tr>\n",
       "  </tbody>\n",
       "</table>\n",
       "</div>"
      ],
      "text/plain": [
       "                                                 importance\n",
       "mh_disorder_past                                   0.167483\n",
       "mh_professional_diagnosis                          0.125347\n",
       "mh_non_treatment_treatment_interferes_with_work    0.124386\n",
       "mh_treatment_interferes_with_work                  0.077992\n",
       "mh_sought_treatment                                0.049977\n",
       "mh_sharing_friends/fam                             0.046498\n",
       "family_history_mh                                  0.042737\n",
       "age                                                0.039178\n",
       "prev_emp_neg_consequence_with_emp_mh_discussion    0.024210\n",
       "prev_emp_mh_anonymity_for_help                     0.018561"
      ]
     },
     "execution_count": 32,
     "metadata": {},
     "output_type": "execute_result"
    }
   ],
   "source": [
    "# Calculates the feature importance for self-employed\n",
    "self_employed_feature_importance = feature_importance('Self Employed Feature Importance', random_forest_self_employed, \n",
    "                                                      self_employed_X_train, self_employed_y_train, self_employed_X_test, self_employed_y_test)\n",
    "\n",
    "# Shows the top 10 most important features for self-employed\n",
    "self_employed_feature_importance.head(10)"
   ]
  },
  {
   "cell_type": "code",
   "execution_count": 33,
   "metadata": {},
   "outputs": [
    {
     "data": {
      "text/html": [
       "<div>\n",
       "<style scoped>\n",
       "    .dataframe tbody tr th:only-of-type {\n",
       "        vertical-align: middle;\n",
       "    }\n",
       "\n",
       "    .dataframe tbody tr th {\n",
       "        vertical-align: top;\n",
       "    }\n",
       "\n",
       "    .dataframe thead th {\n",
       "        text-align: right;\n",
       "    }\n",
       "</style>\n",
       "<table border=\"1\" class=\"dataframe\">\n",
       "  <thead>\n",
       "    <tr style=\"text-align: right;\">\n",
       "      <th></th>\n",
       "      <th>feature</th>\n",
       "      <th>importance</th>\n",
       "    </tr>\n",
       "  </thead>\n",
       "  <tbody>\n",
       "    <tr>\n",
       "      <td>0</td>\n",
       "      <td>mh_non_treatment_treatment_interferes_with_work</td>\n",
       "      <td>0.160462</td>\n",
       "    </tr>\n",
       "    <tr>\n",
       "      <td>1</td>\n",
       "      <td>mh_disorder_past</td>\n",
       "      <td>0.135664</td>\n",
       "    </tr>\n",
       "    <tr>\n",
       "      <td>2</td>\n",
       "      <td>mh_professional_diagnosis</td>\n",
       "      <td>0.124361</td>\n",
       "    </tr>\n",
       "    <tr>\n",
       "      <td>3</td>\n",
       "      <td>mh_treatment_interferes_with_work</td>\n",
       "      <td>0.098668</td>\n",
       "    </tr>\n",
       "    <tr>\n",
       "      <td>4</td>\n",
       "      <td>mh_sought_treatment</td>\n",
       "      <td>0.057994</td>\n",
       "    </tr>\n",
       "  </tbody>\n",
       "</table>\n",
       "</div>"
      ],
      "text/plain": [
       "                                           feature  importance\n",
       "0  mh_non_treatment_treatment_interferes_with_work    0.160462\n",
       "1                                 mh_disorder_past    0.135664\n",
       "2                        mh_professional_diagnosis    0.124361\n",
       "3                mh_treatment_interferes_with_work    0.098668\n",
       "4                              mh_sought_treatment    0.057994"
      ]
     },
     "execution_count": 33,
     "metadata": {},
     "output_type": "execute_result"
    }
   ],
   "source": [
    "# Sum of all of the importances is 1, therefore group them into the top 10, and the remainder as other, will make it look neater\n",
    "\n",
    "def add_other(dataframe):\n",
    "    # Getting the first 10 items in the dataframe\n",
    "    dataframe = dataframe[:10]\n",
    "    # Finding the sum of the importance of the top 10 features\n",
    "    sum_importance = sum(dataframe['importance'])\n",
    "    # Finding the remainder of the importance, which is the rest of the importance of the remaining features\n",
    "    other_value = 1 - sum_importance\n",
    "    \n",
    "    # Adds the other value to the bottom of the dataframe\n",
    "    dataframe.loc['other'] = [other_value]\n",
    "    # Changes the features to be a column, rather than being the index\n",
    "    dataframe.reset_index(inplace=True)\n",
    "    # Changing the name of the features column to be features, not index\n",
    "    dataframe.columns = ['feature', 'importance']\n",
    "    return dataframe\n",
    "\n",
    "employed_feature_importance = add_other(employed_feature_importance)\n",
    "self_employed_feature_importance = add_other(self_employed_feature_importance)\n",
    "\n",
    "employed_feature_importance.head()"
   ]
  },
  {
   "cell_type": "code",
   "execution_count": 34,
   "metadata": {},
   "outputs": [
    {
     "data": {
      "text/plain": [
       "<matplotlib.axes._subplots.AxesSubplot at 0x7fa1cd77d9d0>"
      ]
     },
     "execution_count": 34,
     "metadata": {},
     "output_type": "execute_result"
    },
    {
     "data": {
      "image/png": "[encoded data removed]",
      "text/plain": [
       "<Figure size 1152x432 with 1 Axes>"
      ]
     },
     "metadata": {
      "needs_background": "light"
     },
     "output_type": "display_data"
    },
    {
     "data": {
      "image/png": "[encoded data removed]",
      "text/plain": [
       "<Figure size 1152x432 with 1 Axes>"
      ]
     },
     "metadata": {
      "needs_background": "light"
     },
     "output_type": "display_data"
    }
   ],
   "source": [
    "# Creating plots to see the most important features\n",
    "import matplotlib.pyplot as plt\n",
    "import seaborn as sns\n",
    "\n",
    "def make_graph(name, data):\n",
    "    plt.figure(figsize=(16,6))\n",
    "    graph = sns.barplot(\n",
    "            data = data,\n",
    "            x = 'feature', y = 'importance')\n",
    "    plt.setp(graph.get_xticklabels(),rotation=90)\n",
    "    plt.title(name)\n",
    "    return graph\n",
    "\n",
    "make_graph('A graph showing the 10 most important features for employed people', employed_feature_importance)\n",
    "make_graph('A graph showing the 10 most important features for self-employed people', self_employed_feature_importance)"
   ]
  },
  {
   "cell_type": "code",
   "execution_count": 39,
   "metadata": {},
   "outputs": [
    {
     "data": {
      "image/png": "[encoded data removed]",
      "text/plain": [
       "<Figure size 432x288 with 2 Axes>"
      ]
     },
     "metadata": {
      "needs_background": "light"
     },
     "output_type": "display_data"
    }
   ],
   "source": [
    "# Plotting confusion matrix for employed model\n",
    "\n",
    "from sklearn.metrics import plot_confusion_matrix\n",
    "\n",
    "plot_confusion_matrix(random_forest_employed, employed_X_test, employed_y_test)\n",
    "plt.title('Employed Final Model Confusion Matrix')\n",
    "plt.show()"
   ]
  },
  {
   "cell_type": "code",
   "execution_count": 40,
   "metadata": {},
   "outputs": [
    {
     "data": {
      "image/png": "[encoded data removed]",
      "text/plain": [
       "<Figure size 432x288 with 2 Axes>"
      ]
     },
     "metadata": {
      "needs_background": "light"
     },
     "output_type": "display_data"
    }
   ],
   "source": [
    "# Plotting confusion matrix for self-employed model\n",
    "\n",
    "plot_confusion_matrix(random_forest_self_employed, self_employed_X_test, self_employed_y_test)\n",
    "plt.title('Self Employed Final Model Confusion Matrix')\n",
    "plt.show()"
   ]
  },
  {
   "cell_type": "code",
   "execution_count": null,
   "metadata": {},
   "outputs": [],
   "source": []
  }
 ],
 "metadata": {
  "kernelspec": {
   "display_name": "Python 3",
   "language": "python",
   "name": "python3"
  },
  "language_info": {
   "codemirror_mode": {
    "name": "ipython",
    "version": 3
   },
   "file_extension": ".py",
   "mimetype": "text/x-python",
   "name": "python",
   "nbconvert_exporter": "python",
   "pygments_lexer": "ipython3",
   "version": "3.7.4"
  }
 },
 "nbformat": 4,
 "nbformat_minor": 4
}
